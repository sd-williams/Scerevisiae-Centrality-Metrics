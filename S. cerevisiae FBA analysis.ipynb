{
 "cells": [
  {
   "cell_type": "code",
   "execution_count": 4,
   "id": "ff513c40",
   "metadata": {},
   "outputs": [
    {
     "name": "stdout",
     "output_type": "stream",
     "text": [
      "0.28786570370401793\n"
     ]
    }
   ],
   "source": [
    "import cobra\n",
    "import cobra.test\n",
    "from cobra.flux_analysis import (\n",
    "    single_gene_deletion, single_reaction_deletion, double_gene_deletion,\n",
    "    double_reaction_deletion)\n",
    "\n",
    "scerev_model = cobra.io.read_sbml_model(\"/Users/rbbrown/Desktop/Classes/206 Final Project/iMM904.xml\")\n",
    "solution = scerev_model.optimize()\n",
    "obj_value = solution.objective_value\n",
    "print(obj_value)"
   ]
  },
  {
   "cell_type": "code",
   "execution_count": 5,
   "id": "7661e6f1",
   "metadata": {},
   "outputs": [],
   "source": [
    "single = single_reaction_deletion(scerev_model, scerev_model.reactions)"
   ]
  },
  {
   "cell_type": "code",
   "execution_count": 7,
   "id": "fb256614",
   "metadata": {},
   "outputs": [
    {
     "data": {
      "text/html": [
       "<div>\n",
       "<style scoped>\n",
       "    .dataframe tbody tr th:only-of-type {\n",
       "        vertical-align: middle;\n",
       "    }\n",
       "\n",
       "    .dataframe tbody tr th {\n",
       "        vertical-align: top;\n",
       "    }\n",
       "\n",
       "    .dataframe thead th {\n",
       "        text-align: right;\n",
       "    }\n",
       "</style>\n",
       "<table border=\"1\" class=\"dataframe\">\n",
       "  <thead>\n",
       "    <tr style=\"text-align: right;\">\n",
       "      <th></th>\n",
       "      <th>ids</th>\n",
       "      <th>growth</th>\n",
       "      <th>status</th>\n",
       "    </tr>\n",
       "  </thead>\n",
       "  <tbody>\n",
       "    <tr>\n",
       "      <th>0</th>\n",
       "      <td>{DESAT18_2}</td>\n",
       "      <td>5.634119e-18</td>\n",
       "      <td>optimal</td>\n",
       "    </tr>\n",
       "    <tr>\n",
       "      <th>1</th>\n",
       "      <td>{SPMDAT1}</td>\n",
       "      <td>2.878657e-01</td>\n",
       "      <td>optimal</td>\n",
       "    </tr>\n",
       "    <tr>\n",
       "      <th>2</th>\n",
       "      <td>{TYRt6}</td>\n",
       "      <td>2.878657e-01</td>\n",
       "      <td>optimal</td>\n",
       "    </tr>\n",
       "    <tr>\n",
       "      <th>3</th>\n",
       "      <td>{EX_iamac_e}</td>\n",
       "      <td>2.878657e-01</td>\n",
       "      <td>optimal</td>\n",
       "    </tr>\n",
       "    <tr>\n",
       "      <th>4</th>\n",
       "      <td>{ADA}</td>\n",
       "      <td>2.878657e-01</td>\n",
       "      <td>optimal</td>\n",
       "    </tr>\n",
       "    <tr>\n",
       "      <th>...</th>\n",
       "      <td>...</td>\n",
       "      <td>...</td>\n",
       "      <td>...</td>\n",
       "    </tr>\n",
       "    <tr>\n",
       "      <th>1572</th>\n",
       "      <td>{GTPCII}</td>\n",
       "      <td>-2.199320e-16</td>\n",
       "      <td>optimal</td>\n",
       "    </tr>\n",
       "    <tr>\n",
       "      <th>1573</th>\n",
       "      <td>{PPAm}</td>\n",
       "      <td>2.878657e-01</td>\n",
       "      <td>optimal</td>\n",
       "    </tr>\n",
       "    <tr>\n",
       "      <th>1574</th>\n",
       "      <td>{FA141ACPHi}</td>\n",
       "      <td>2.878657e-01</td>\n",
       "      <td>optimal</td>\n",
       "    </tr>\n",
       "    <tr>\n",
       "      <th>1575</th>\n",
       "      <td>{IAMACt}</td>\n",
       "      <td>2.878657e-01</td>\n",
       "      <td>optimal</td>\n",
       "    </tr>\n",
       "    <tr>\n",
       "      <th>1576</th>\n",
       "      <td>{CLPNSm_SC}</td>\n",
       "      <td>2.878657e-01</td>\n",
       "      <td>optimal</td>\n",
       "    </tr>\n",
       "  </tbody>\n",
       "</table>\n",
       "<p>1577 rows × 3 columns</p>\n",
       "</div>"
      ],
      "text/plain": [
       "               ids        growth   status\n",
       "0      {DESAT18_2}  5.634119e-18  optimal\n",
       "1        {SPMDAT1}  2.878657e-01  optimal\n",
       "2          {TYRt6}  2.878657e-01  optimal\n",
       "3     {EX_iamac_e}  2.878657e-01  optimal\n",
       "4            {ADA}  2.878657e-01  optimal\n",
       "...            ...           ...      ...\n",
       "1572      {GTPCII} -2.199320e-16  optimal\n",
       "1573        {PPAm}  2.878657e-01  optimal\n",
       "1574  {FA141ACPHi}  2.878657e-01  optimal\n",
       "1575      {IAMACt}  2.878657e-01  optimal\n",
       "1576   {CLPNSm_SC}  2.878657e-01  optimal\n",
       "\n",
       "[1577 rows x 3 columns]"
      ]
     },
     "execution_count": 7,
     "metadata": {},
     "output_type": "execute_result"
    }
   ],
   "source": [
    "single"
   ]
  },
  {
   "cell_type": "code",
   "execution_count": 8,
   "id": "40e90ff0",
   "metadata": {},
   "outputs": [],
   "source": [
    "thresholds = [0.01, 0.05, .1]\n",
    "default = .982\n",
    "essentials = [[],[],[]]\n",
    "for i, threshold in enumerate(thresholds):\n",
    "    for j in range(len(single)):\n",
    "        if single.loc[j,\"growth\"] < threshold * default:\n",
    "            name = list(single.loc[j,\"ids\"])[0]\n",
    "            #if \"_\" in name:\n",
    "            #    name = name.split(\"_\")[1]\n",
    "            essentials[i].append(name)"
   ]
  },
  {
   "cell_type": "code",
   "execution_count": 9,
   "id": "c7116f37",
   "metadata": {
    "scrolled": false
   },
   "outputs": [
    {
     "data": {
      "text/plain": [
       "['DESAT18_2',\n",
       " 'DHAD2m',\n",
       " 'SHK3Dr',\n",
       " 'ANPRT',\n",
       " 'EX_nh4_e',\n",
       " 'C3STKR2',\n",
       " 'CBPS',\n",
       " 'ERGSTter',\n",
       " 'RBFSa',\n",
       " 'PETOHM_SC',\n",
       " 'NDPK2',\n",
       " 'MANNANter',\n",
       " 'G5SADs',\n",
       " 'AICART',\n",
       " 'PRAGSr',\n",
       " 'DOLPMMer',\n",
       " 'TMDS',\n",
       " 'ADSK',\n",
       " 'HCITSm',\n",
       " 'MCITDm',\n",
       " 'DMATT',\n",
       " 'PSCVT',\n",
       " 'RBFSb',\n",
       " 'FAS120COA',\n",
       " 'ACOTAim',\n",
       " 'IPMD',\n",
       " 'PRFGS',\n",
       " 'OMPDC',\n",
       " 'DHFR',\n",
       " 'C4STMO1',\n",
       " '2OXOADPtim',\n",
       " 'IMPC',\n",
       " 'MI1PS',\n",
       " 'ADSS',\n",
       " 'AIRCr',\n",
       " 'CHORM',\n",
       " 'HMGCOAR',\n",
       " 'C4STMO2',\n",
       " 'THRS',\n",
       " 'HICITDm',\n",
       " 'DOLPMTcer',\n",
       " 'EX_pi_e',\n",
       " 'SQLEr',\n",
       " 'C3STDH2',\n",
       " 'SO4ti',\n",
       " 'G6Pter',\n",
       " '13GS',\n",
       " 'LEUTA',\n",
       " 'TRE6PS',\n",
       " 'GLNS',\n",
       " 'GND',\n",
       " 'IG3PS',\n",
       " 'DB4PS',\n",
       " 'PRAIS',\n",
       " 'SHKK',\n",
       " 'GMPS2',\n",
       " 'IPPMIa',\n",
       " 'MI1PP',\n",
       " 'METS',\n",
       " 'MFAPS_SC',\n",
       " 'ASAD',\n",
       " 'ORNTACim',\n",
       " 'KARA1im',\n",
       " 'IPPMIb',\n",
       " 'SACCD2',\n",
       " 'MAN1PT',\n",
       " 'SQ23EPXter',\n",
       " 'SQLter',\n",
       " 'PGMT',\n",
       " 'DROPPRy',\n",
       " 'ADSL2r',\n",
       " 'VALTA',\n",
       " 'ADSL1r',\n",
       " 'ORNt3m',\n",
       " 'O2ter',\n",
       " 'H2Oter',\n",
       " 'DHORTS',\n",
       " 'ERGTETROLter',\n",
       " 'PRAMPC',\n",
       " 'TRE6PP',\n",
       " 'PRPPS',\n",
       " 'ASPK',\n",
       " 'PRMICI',\n",
       " 'OXAGm',\n",
       " 'GARFT',\n",
       " 'ANS',\n",
       " 'AGPRim',\n",
       " 'CO2tm',\n",
       " 'PMANM',\n",
       " 'NH4t',\n",
       " 'TRPS1',\n",
       " '6PGLter',\n",
       " 'GRTT',\n",
       " 'DOLPt2er',\n",
       " 'ARGSS',\n",
       " 'SQLS',\n",
       " 'IGPS',\n",
       " 'DHQS',\n",
       " 'PPNDH',\n",
       " 'ICDHyr',\n",
       " 'PRATPP',\n",
       " 'C24STRer',\n",
       " 'HSK',\n",
       " '3MOBtm',\n",
       " 'MAN6PI',\n",
       " 'RPI',\n",
       " 'AHCi',\n",
       " 'UMPK',\n",
       " 'IPDDI',\n",
       " 'ACGKm',\n",
       " 'PINOS_SC',\n",
       " 'PHETA1',\n",
       " 'AGAT_SC',\n",
       " 'PMEVK',\n",
       " 'DRTPPD',\n",
       " 'LNSTLS',\n",
       " 'DPMVD',\n",
       " 'ASPCT',\n",
       " 'IGPDH',\n",
       " 'CSm',\n",
       " 'ACHBSm',\n",
       " 'FAS100COA',\n",
       " 'AATA',\n",
       " 'SULR',\n",
       " 'BIOMASS_SC5_notrace',\n",
       " 'EX_o2_e',\n",
       " 'TRDR',\n",
       " 'HISTP',\n",
       " 'C14STR',\n",
       " 'OMCDC',\n",
       " 'ACS',\n",
       " 'IMPD',\n",
       " 'ORPT',\n",
       " 'ACLSm',\n",
       " 'MTHFR3',\n",
       " 'ASNS1',\n",
       " 'HISTD',\n",
       " 'PRASCSi',\n",
       " 'O2t',\n",
       " 'OCBT',\n",
       " 'HSTPT',\n",
       " 'DHQTi',\n",
       " 'PMETM_SC',\n",
       " 'ACCOAC',\n",
       " 'DADK',\n",
       " 'C3STDH1',\n",
       " 'KARA2im',\n",
       " 'PRAIi',\n",
       " 'C3STKR1',\n",
       " 'SACCD1',\n",
       " 'CHORS',\n",
       " 'G6PDH2er',\n",
       " 'PGL',\n",
       " 'PIt2r',\n",
       " 'P5CR',\n",
       " 'DHAD1m',\n",
       " 'PMDPHT',\n",
       " 'EX_so4_e',\n",
       " 'GLUPRT',\n",
       " 'HACNHm',\n",
       " 'FAS80COA_L',\n",
       " 'ARGSL',\n",
       " 'METAT',\n",
       " 'PAPSR',\n",
       " 'ATPPRT',\n",
       " 'GTPCII']"
      ]
     },
     "execution_count": 9,
     "metadata": {},
     "output_type": "execute_result"
    }
   ],
   "source": [
    "essentials[0]"
   ]
  },
  {
   "cell_type": "code",
   "execution_count": 10,
   "id": "21f75fbd",
   "metadata": {},
   "outputs": [
    {
     "data": {
      "text/html": [
       "<strong><em>Optimal</em> solution with objective value 0.288</strong><br><div>\n",
       "<style scoped>\n",
       "    .dataframe tbody tr th:only-of-type {\n",
       "        vertical-align: middle;\n",
       "    }\n",
       "\n",
       "    .dataframe tbody tr th {\n",
       "        vertical-align: top;\n",
       "    }\n",
       "\n",
       "    .dataframe thead th {\n",
       "        text-align: right;\n",
       "    }\n",
       "</style>\n",
       "<table border=\"1\" class=\"dataframe\">\n",
       "  <thead>\n",
       "    <tr style=\"text-align: right;\">\n",
       "      <th></th>\n",
       "      <th>fluxes</th>\n",
       "      <th>reduced_costs</th>\n",
       "    </tr>\n",
       "  </thead>\n",
       "  <tbody>\n",
       "    <tr>\n",
       "      <th>CITtcp</th>\n",
       "      <td>0.000000</td>\n",
       "      <td>-3.469447e-18</td>\n",
       "    </tr>\n",
       "    <tr>\n",
       "      <th>13BGH</th>\n",
       "      <td>0.000000</td>\n",
       "      <td>-4.751566e-02</td>\n",
       "    </tr>\n",
       "    <tr>\n",
       "      <th>13BGHe</th>\n",
       "      <td>0.000000</td>\n",
       "      <td>0.000000e+00</td>\n",
       "    </tr>\n",
       "    <tr>\n",
       "      <th>13GS</th>\n",
       "      <td>0.326670</td>\n",
       "      <td>0.000000e+00</td>\n",
       "    </tr>\n",
       "    <tr>\n",
       "      <th>16GS</th>\n",
       "      <td>0.000000</td>\n",
       "      <td>-9.503132e-02</td>\n",
       "    </tr>\n",
       "    <tr>\n",
       "      <th>...</th>\n",
       "      <td>...</td>\n",
       "      <td>...</td>\n",
       "    </tr>\n",
       "    <tr>\n",
       "      <th>PYDXO</th>\n",
       "      <td>0.000000</td>\n",
       "      <td>0.000000e+00</td>\n",
       "    </tr>\n",
       "    <tr>\n",
       "      <th>PYK</th>\n",
       "      <td>17.721990</td>\n",
       "      <td>0.000000e+00</td>\n",
       "    </tr>\n",
       "    <tr>\n",
       "      <th>PYNP2r</th>\n",
       "      <td>0.000000</td>\n",
       "      <td>-0.000000e+00</td>\n",
       "    </tr>\n",
       "    <tr>\n",
       "      <th>PYR5CDm</th>\n",
       "      <td>0.000000</td>\n",
       "      <td>-2.969729e-02</td>\n",
       "    </tr>\n",
       "    <tr>\n",
       "      <th>PYRDC</th>\n",
       "      <td>15.946051</td>\n",
       "      <td>0.000000e+00</td>\n",
       "    </tr>\n",
       "  </tbody>\n",
       "</table>\n",
       "<p>1577 rows × 2 columns</p>\n",
       "</div>"
      ],
      "text/plain": [
       "<Solution 0.288 at 0x7fd1a4b95a20>"
      ]
     },
     "execution_count": 10,
     "metadata": {},
     "output_type": "execute_result"
    }
   ],
   "source": [
    "scerev_model.optimize()"
   ]
  },
  {
   "cell_type": "code",
   "execution_count": 11,
   "id": "04844248",
   "metadata": {},
   "outputs": [
    {
     "data": {
      "text/plain": [
       "1577"
      ]
     },
     "execution_count": 11,
     "metadata": {},
     "output_type": "execute_result"
    }
   ],
   "source": [
    "len(scerev_model.reactions)"
   ]
  },
  {
   "cell_type": "code",
   "execution_count": 12,
   "id": "aef5ed13",
   "metadata": {},
   "outputs": [
    {
     "name": "stdout",
     "output_type": "stream",
     "text": [
      "There are a total of 1577 reactions in Scerevisiae model.\n"
     ]
    }
   ],
   "source": [
    "print(\"There are a total of {} reactions in Scerevisiae model.\".format(len(scerev_model.reactions)))"
   ]
  },
  {
   "cell_type": "code",
   "execution_count": 15,
   "id": "6c37c17a",
   "metadata": {},
   "outputs": [
    {
     "data": {
      "text/plain": [
       "172"
      ]
     },
     "execution_count": 15,
     "metadata": {},
     "output_type": "execute_result"
    }
   ],
   "source": [
    "sum(single['growth'] < .1)"
   ]
  },
  {
   "cell_type": "code",
   "execution_count": 16,
   "id": "30e12ca5",
   "metadata": {},
   "outputs": [
    {
     "data": {
      "text/plain": [
       "168"
      ]
     },
     "execution_count": 16,
     "metadata": {},
     "output_type": "execute_result"
    }
   ],
   "source": [
    "sum(single['growth'] < .05)"
   ]
  },
  {
   "cell_type": "code",
   "execution_count": 17,
   "id": "d9a6c75c",
   "metadata": {},
   "outputs": [
    {
     "data": {
      "text/plain": [
       "166"
      ]
     },
     "execution_count": 17,
     "metadata": {},
     "output_type": "execute_result"
    }
   ],
   "source": [
    "sum(single['growth'] < .01)"
   ]
  },
  {
   "cell_type": "code",
   "execution_count": 18,
   "id": "f56eaccc",
   "metadata": {},
   "outputs": [
    {
     "data": {
      "text/plain": [
       "1575"
      ]
     },
     "execution_count": 18,
     "metadata": {},
     "output_type": "execute_result"
    }
   ],
   "source": [
    "sum(single['growth'] < .5)"
   ]
  },
  {
   "cell_type": "code",
   "execution_count": 19,
   "id": "391e6354",
   "metadata": {},
   "outputs": [
    {
     "data": {
      "text/plain": [
       "166"
      ]
     },
     "execution_count": 19,
     "metadata": {},
     "output_type": "execute_result"
    }
   ],
   "source": [
    "len(essentials[0])"
   ]
  },
  {
   "cell_type": "code",
   "execution_count": 20,
   "id": "6878187f",
   "metadata": {},
   "outputs": [
    {
     "data": {
      "text/plain": [
       "168"
      ]
     },
     "execution_count": 20,
     "metadata": {},
     "output_type": "execute_result"
    }
   ],
   "source": [
    "len(essentials[1])"
   ]
  },
  {
   "cell_type": "code",
   "execution_count": 22,
   "id": "3ba2d8fc",
   "metadata": {},
   "outputs": [
    {
     "data": {
      "text/plain": [
       "172"
      ]
     },
     "execution_count": 22,
     "metadata": {},
     "output_type": "execute_result"
    }
   ],
   "source": [
    "len(essentials[2])"
   ]
  },
  {
   "cell_type": "code",
   "execution_count": 24,
   "id": "55e08387",
   "metadata": {},
   "outputs": [
    {
     "data": {
      "text/plain": [
       "['DESAT18_2',\n",
       " 'DHAD2m',\n",
       " 'SHK3Dr',\n",
       " 'ANPRT',\n",
       " 'EX_nh4_e',\n",
       " 'C3STKR2',\n",
       " 'CBPS',\n",
       " 'ERGSTter',\n",
       " 'RBFSa',\n",
       " 'PETOHM_SC',\n",
       " 'NDPK2',\n",
       " 'MANNANter',\n",
       " 'G5SADs',\n",
       " 'AICART',\n",
       " 'PRAGSr',\n",
       " 'DOLPMMer',\n",
       " 'TMDS',\n",
       " 'ADSK',\n",
       " 'HCITSm',\n",
       " 'MCITDm',\n",
       " 'DMATT',\n",
       " 'PSCVT',\n",
       " 'RBFSb',\n",
       " 'FAS120COA',\n",
       " 'ACOTAim',\n",
       " 'IPMD',\n",
       " 'PRFGS',\n",
       " 'OMPDC',\n",
       " 'DHFR',\n",
       " 'C4STMO1',\n",
       " '2OXOADPtim',\n",
       " 'IMPC',\n",
       " 'MI1PS',\n",
       " 'ADSS',\n",
       " 'AIRCr',\n",
       " 'CHORM',\n",
       " 'HMGCOAR',\n",
       " 'C4STMO2',\n",
       " 'THRS',\n",
       " 'HICITDm',\n",
       " 'DOLPMTcer',\n",
       " 'EX_pi_e',\n",
       " 'SQLEr',\n",
       " 'C3STDH2',\n",
       " 'SO4ti',\n",
       " 'G6Pter',\n",
       " '13GS',\n",
       " 'LEUTA',\n",
       " 'TRE6PS',\n",
       " 'GLNS',\n",
       " 'GND',\n",
       " 'IG3PS',\n",
       " 'DB4PS',\n",
       " 'PRAIS',\n",
       " 'SHKK',\n",
       " 'GMPS2',\n",
       " 'IPPMIa',\n",
       " 'MI1PP',\n",
       " 'METS',\n",
       " 'MFAPS_SC',\n",
       " 'ASAD',\n",
       " 'ORNTACim',\n",
       " 'KARA1im',\n",
       " 'IPPMIb',\n",
       " 'SACCD2',\n",
       " 'MAN1PT',\n",
       " 'SQ23EPXter',\n",
       " 'SQLter',\n",
       " 'PGMT',\n",
       " 'DROPPRy',\n",
       " 'ADSL2r',\n",
       " 'VALTA',\n",
       " 'ADSL1r',\n",
       " 'ORNt3m',\n",
       " 'O2ter',\n",
       " 'H2Oter',\n",
       " 'DHORTS',\n",
       " 'ERGTETROLter',\n",
       " 'PRAMPC',\n",
       " 'TRE6PP',\n",
       " 'PRPPS',\n",
       " 'ASPK',\n",
       " 'PRMICI',\n",
       " 'OXAGm',\n",
       " 'GARFT',\n",
       " 'ANS',\n",
       " 'AGPRim',\n",
       " 'CO2tm',\n",
       " 'PMANM',\n",
       " 'NH4t',\n",
       " 'TRPS1',\n",
       " '6PGLter',\n",
       " 'GRTT',\n",
       " 'DOLPt2er',\n",
       " 'ARGSS',\n",
       " 'SQLS',\n",
       " 'IGPS',\n",
       " 'DHQS',\n",
       " 'PPNDH',\n",
       " 'ICDHyr',\n",
       " 'PRATPP',\n",
       " 'C24STRer',\n",
       " 'HSK',\n",
       " '3MOBtm',\n",
       " 'MAN6PI',\n",
       " 'RPI',\n",
       " 'AHCi',\n",
       " 'UMPK',\n",
       " 'IPDDI',\n",
       " 'ACGKm',\n",
       " 'PINOS_SC',\n",
       " 'PHETA1',\n",
       " 'AGAT_SC',\n",
       " 'PMEVK',\n",
       " 'DRTPPD',\n",
       " 'LNSTLS',\n",
       " 'DPMVD',\n",
       " 'ASPCT',\n",
       " 'IGPDH',\n",
       " 'CSm',\n",
       " 'ACHBSm',\n",
       " 'FAS100COA',\n",
       " 'AATA',\n",
       " 'SULR',\n",
       " 'BIOMASS_SC5_notrace',\n",
       " 'EX_o2_e',\n",
       " 'TRDR',\n",
       " 'HISTP',\n",
       " 'C14STR',\n",
       " 'OMCDC',\n",
       " 'ACS',\n",
       " 'IMPD',\n",
       " 'ORPT',\n",
       " 'ACLSm',\n",
       " 'MTHFR3',\n",
       " 'ASNS1',\n",
       " 'HISTD',\n",
       " 'PRASCSi',\n",
       " 'O2t',\n",
       " 'OCBT',\n",
       " 'HSTPT',\n",
       " 'DHQTi',\n",
       " 'PMETM_SC',\n",
       " 'ACCOAC',\n",
       " 'DADK',\n",
       " 'C3STDH1',\n",
       " 'KARA2im',\n",
       " 'PRAIi',\n",
       " 'C3STKR1',\n",
       " 'SACCD1',\n",
       " 'CHORS',\n",
       " 'G6PDH2er',\n",
       " 'PGL',\n",
       " 'PIt2r',\n",
       " 'P5CR',\n",
       " 'DHAD1m',\n",
       " 'PMDPHT',\n",
       " 'EX_so4_e',\n",
       " 'GLUPRT',\n",
       " 'HACNHm',\n",
       " 'FAS80COA_L',\n",
       " 'ARGSL',\n",
       " 'METAT',\n",
       " 'PAPSR',\n",
       " 'ATPPRT',\n",
       " 'GTPCII']"
      ]
     },
     "execution_count": 24,
     "metadata": {},
     "output_type": "execute_result"
    }
   ],
   "source": [
    "essentials[0]"
   ]
  },
  {
   "cell_type": "code",
   "execution_count": 26,
   "id": "908c2dad",
   "metadata": {},
   "outputs": [],
   "source": [
    "with open(\"essential_rxns.txt\",\"w\") as f:\n",
    "    for rxn in essentials[0]:\n",
    "        f.write(rxn + \"\\n\")"
   ]
  },
  {
   "cell_type": "code",
   "execution_count": 27,
   "id": "c52758d3",
   "metadata": {},
   "outputs": [
    {
     "data": {
      "text/html": [
       "<h3>Objective</h3><p>1.0 BIOMASS_SC5_notrace = 0.287865703704018</p><h4>Uptake</h4><table border=\"1\" class=\"dataframe\">\n",
       "  <thead>\n",
       "    <tr style=\"text-align: right;\">\n",
       "      <th>Metabolite</th>\n",
       "      <th>Reaction</th>\n",
       "      <th>Flux</th>\n",
       "      <th>C-Number</th>\n",
       "      <th>C-Flux</th>\n",
       "    </tr>\n",
       "  </thead>\n",
       "  <tbody>\n",
       "    <tr>\n",
       "      <td>glc__D_e</td>\n",
       "      <td>EX_glc__D_e</td>\n",
       "      <td>10</td>\n",
       "      <td>6</td>\n",
       "      <td>100.00%</td>\n",
       "    </tr>\n",
       "    <tr>\n",
       "      <td>nh4_e</td>\n",
       "      <td>EX_nh4_e</td>\n",
       "      <td>1.611</td>\n",
       "      <td>0</td>\n",
       "      <td>0.00%</td>\n",
       "    </tr>\n",
       "    <tr>\n",
       "      <td>o2_e</td>\n",
       "      <td>EX_o2_e</td>\n",
       "      <td>2</td>\n",
       "      <td>0</td>\n",
       "      <td>0.00%</td>\n",
       "    </tr>\n",
       "    <tr>\n",
       "      <td>pi_e</td>\n",
       "      <td>EX_pi_e</td>\n",
       "      <td>0.05691</td>\n",
       "      <td>0</td>\n",
       "      <td>0.00%</td>\n",
       "    </tr>\n",
       "    <tr>\n",
       "      <td>so4_e</td>\n",
       "      <td>EX_so4_e</td>\n",
       "      <td>0.02225</td>\n",
       "      <td>0</td>\n",
       "      <td>0.00%</td>\n",
       "    </tr>\n",
       "  </tbody>\n",
       "</table><h4>Secretion</h4><table border=\"1\" class=\"dataframe\">\n",
       "  <thead>\n",
       "    <tr style=\"text-align: right;\">\n",
       "      <th>Metabolite</th>\n",
       "      <th>Reaction</th>\n",
       "      <th>Flux</th>\n",
       "      <th>C-Number</th>\n",
       "      <th>C-Flux</th>\n",
       "    </tr>\n",
       "  </thead>\n",
       "  <tbody>\n",
       "    <tr>\n",
       "      <td>co2_e</td>\n",
       "      <td>EX_co2_e</td>\n",
       "      <td>-18.02</td>\n",
       "      <td>1</td>\n",
       "      <td>36.29%</td>\n",
       "    </tr>\n",
       "    <tr>\n",
       "      <td>etoh_e</td>\n",
       "      <td>EX_etoh_e</td>\n",
       "      <td>-15.82</td>\n",
       "      <td>2</td>\n",
       "      <td>63.70%</td>\n",
       "    </tr>\n",
       "    <tr>\n",
       "      <td>for_e</td>\n",
       "      <td>EX_for_e</td>\n",
       "      <td>-0.001488</td>\n",
       "      <td>1</td>\n",
       "      <td>0.00%</td>\n",
       "    </tr>\n",
       "    <tr>\n",
       "      <td>h2o_e</td>\n",
       "      <td>EX_h2o_e</td>\n",
       "      <td>-5.64</td>\n",
       "      <td>0</td>\n",
       "      <td>0.00%</td>\n",
       "    </tr>\n",
       "    <tr>\n",
       "      <td>h_e</td>\n",
       "      <td>EX_h_e</td>\n",
       "      <td>-1.45</td>\n",
       "      <td>0</td>\n",
       "      <td>0.00%</td>\n",
       "    </tr>\n",
       "  </tbody>\n",
       "</table>"
      ],
      "text/plain": [
       "<cobra.summary.model_summary.ModelSummary at 0x7fd1a4b9f630>"
      ]
     },
     "execution_count": 27,
     "metadata": {},
     "output_type": "execute_result"
    }
   ],
   "source": [
    "scerev_model.summary()"
   ]
  },
  {
   "cell_type": "code",
   "execution_count": null,
   "id": "9fb4a39a",
   "metadata": {},
   "outputs": [],
   "source": []
  }
 ],
 "metadata": {
  "kernelspec": {
   "display_name": "cobrapy_env",
   "language": "python",
   "name": "cobrapy_env"
  },
  "language_info": {
   "codemirror_mode": {
    "name": "ipython",
    "version": 3
   },
   "file_extension": ".py",
   "mimetype": "text/x-python",
   "name": "python",
   "nbconvert_exporter": "python",
   "pygments_lexer": "ipython3",
   "version": "3.6.13"
  }
 },
 "nbformat": 4,
 "nbformat_minor": 5
}
