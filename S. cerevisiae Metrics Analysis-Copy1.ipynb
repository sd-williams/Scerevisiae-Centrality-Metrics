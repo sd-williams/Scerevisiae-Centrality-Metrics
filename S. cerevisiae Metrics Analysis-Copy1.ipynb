{
 "cells": [
  {
   "cell_type": "code",
   "execution_count": 1,
   "id": "2a3628d9",
   "metadata": {},
   "outputs": [],
   "source": [
    "from typing import Dict, List, Tuple\n",
    "import matplotlib.pyplot as plt \n",
    "import networkx as nx \n",
    "import numpy as np\n",
    "import pandas as pd \n",
    "\n",
    "from scipy import stats"
   ]
  },
  {
   "cell_type": "markdown",
   "id": "ef5de744",
   "metadata": {},
   "source": [
    "Load in data as networkx object"
   ]
  },
  {
   "cell_type": "code",
   "execution_count": 2,
   "id": "e903ad5e",
   "metadata": {},
   "outputs": [],
   "source": [
    "import matplotlib"
   ]
  },
  {
   "cell_type": "code",
   "execution_count": 3,
   "id": "12e7dd01",
   "metadata": {},
   "outputs": [
    {
     "name": "stderr",
     "output_type": "stream",
     "text": [
      "/Users/rbbrown/opt/anaconda3/lib/python3.9/site-packages/IPython/core/interactiveshell.py:3444: FutureWarning: The error_bad_lines argument has been deprecated and will be removed in a future version.\n",
      "\n",
      "\n",
      "  exec(code_obj, self.user_global_ns, self.user_ns)\n"
     ]
    }
   ],
   "source": [
    "scerev = pd.read_excel(\"../206 Final Project/critical_network_data.xlsx\", \n",
    "                       sheet_name=4, index_col=0)\n",
    "# remove whitespace from ecoli index \n",
    "scerev.index = scerev.index.str.strip()\n",
    "scerev_nx = nx.from_numpy_matrix(np.array(scerev))\n",
    "ess_rxn_aer = pd.read_csv(\"essential_rxns.txt\", error_bad_lines = False,\n",
    "                          header=None)\n",
    "# restrict essential reactions to those found in the adj matrix\n",
    "ess_rxn_aer = pd.DataFrame(scerev[scerev.index.isin(ess_rxn_aer[0])].index)"
   ]
  },
  {
   "cell_type": "code",
   "execution_count": 4,
   "id": "829a6150",
   "metadata": {},
   "outputs": [
    {
     "data": {
      "text/plain": [
       "<networkx.classes.graph.Graph at 0x7f986a488f40>"
      ]
     },
     "execution_count": 4,
     "metadata": {},
     "output_type": "execute_result"
    }
   ],
   "source": [
    "scerev_nx"
   ]
  },
  {
   "cell_type": "markdown",
   "id": "9418a25c",
   "metadata": {},
   "source": [
    "Panel a: log(bridging centrality)"
   ]
  },
  {
   "cell_type": "code",
   "execution_count": 5,
   "id": "72c33f93",
   "metadata": {},
   "outputs": [],
   "source": [
    "def bridging_centrality(graph: nx.Graph) -> Dict:\n",
    "    \"\"\"\n",
    "    Compute (modified) bridging centrality as defined in methods \n",
    "    section.\n",
    "    \n",
    "    :param graph: networkx (directed) graph \n",
    "    :return: Dict mapping nodes to briding centrality \n",
    "    \"\"\"\n",
    "    degrees_all = dict(nx.degree(graph))\n",
    "    degree_in = dict(nx.DiGraph(graph).in_degree())\n",
    "    degree_out = dict(nx.DiGraph(graph).out_degree())\n",
    "    \n",
    "    between_centr = nx.betweenness_centrality(graph)\n",
    "    \n",
    "    bc = {} # map node to bridging centrality \n",
    "    for rxn in degrees_all:\n",
    "        if degree_in[rxn] == 0 or degree_out[rxn] == 0:\n",
    "            bc[rxn] = 0\n",
    "        else:\n",
    "            numerator = 1/degrees_all[rxn]\n",
    "            denominator = np.sum([1/degrees_all[x] for x in \n",
    "                                  graph.neighbors(rxn)])\n",
    "            bc[rxn] = (numerator / denominator)*between_centr[rxn]\n",
    "    return bc "
   ]
  },
  {
   "cell_type": "code",
   "execution_count": 6,
   "id": "3b2f9288",
   "metadata": {},
   "outputs": [],
   "source": [
    "def prepare_graphing_data(metric: List, \n",
    "        essential: pd.DataFrame) -> List:\n",
    "    \"\"\"\n",
    "    Count share of essential/non-essential reactions in each bin, percent \n",
    "    essential within a bin.\n",
    "    \n",
    "    :param hist_bins: List of (rounded) graph statistic values. \n",
    "    :param essential: DataFrame of essential reactions.\n",
    "    :return: Essential reactions, nonessential reactions, % essential \n",
    "             within each bin \n",
    "    \"\"\"\n",
    "    # get essential reaction indices \n",
    "    ess_idx = np.where(scerev.index.isin(essential[0]))[0].tolist()\n",
    "    \n",
    "    # count *all* reactions in each bin\n",
    "    # drop any inf's if there are any (an issue when we take log)\n",
    "    all_rxn_per_bin = np.unique([x for x in metric if x != -np.inf], return_counts=True)\n",
    "    \n",
    "    # count *essential* reactions in each bin (including bins with 0 ess!)\n",
    "    ess_only = np.array(metric)[ess_idx]\n",
    "    ess_rxn_per_bin = [(ess_only == x).sum() \n",
    "                       for x in all_rxn_per_bin[0]]\n",
    "\n",
    "    # get percent essential per bin \n",
    "    perc_ess_per_bin = [x/y for x,y in zip(ess_rxn_per_bin,\n",
    "                                           all_rxn_per_bin[1])]\n",
    "    # get count of non-essential per bin\n",
    "    non_ess_per_bin = [x-y for x,y in zip(all_rxn_per_bin[1], \n",
    "                                          ess_rxn_per_bin)]\n",
    "\n",
    "    return ess_rxn_per_bin, non_ess_per_bin, perc_ess_per_bin"
   ]
  },
  {
   "cell_type": "markdown",
   "id": "8f1ccd24",
   "metadata": {},
   "source": [
    "Import pdb; pdb.set_trace()"
   ]
  },
  {
   "cell_type": "code",
   "execution_count": 7,
   "id": "d2486b5e",
   "metadata": {},
   "outputs": [],
   "source": [
    "from scipy.stats import linregress"
   ]
  },
  {
   "cell_type": "code",
   "execution_count": 35,
   "id": "7de323f7",
   "metadata": {},
   "outputs": [],
   "source": [
    "def construct_plot(ess: List, non_ess: List, perc_ess: List,\n",
    "                   x_axis: List, x_title: str, out_path: str) -> None:\n",
    "    \"\"\"\n",
    "    Generate the combined histogram and scatterplot from the corresponding data. \n",
    "    \n",
    "    :param ess: List of counts of essential reactions per bin. \n",
    "    :param non_ess: List of counts of non-essential reactions per bin. \n",
    "    :param perc_ess: List of percent of essential reactions per bin. \n",
    "    :param x_axis: List of x axis tick *labels* that match the paper directly. \n",
    "    :param x_title: x-axis title corresponding to graph metric. \n",
    "    :param out_path: Where to save figure. \n",
    "    \"\"\"\n",
    "    spacing = [x for x in range(len(x_axis))]\n",
    "    fig, ax1 = plt.subplots()\n",
    "    ax1.bar(spacing, ess, color=\"black\")\n",
    "    ax1.bar(spacing, non_ess, color=\"gray\", bottom=ess)\n",
    "    ax1.set_ylabel(\"Number of Reactions\")\n",
    "    plt.xticks(spacing, x_axis)\n",
    "    plt.xlabel(x_title)\n",
    "\n",
    "    ax2 = ax1.twinx()\n",
    "    ax2.set_ylabel(\"% Essential\")\n",
    "    ax2.scatter(spacing, perc_ess, color=\"black\")\n",
    "    # line of best fit \n",
    "    m, b = np.polyfit(spacing, perc_ess, 1)\n",
    "    ax2.plot(spacing, [(m*x) + b for x in spacing], color=\"black\")\n",
    "\n",
    "    # correlation\n",
    "    res = stats.linregress(spacing, perc_ess)\n",
    "    plt.plot([], [], ' ', label = f\"r={round(np.corrcoef(perc_ess, spacing)[0,1],2)}, p-value ={round(res.pvalue,2)}, r-squared={res.rvalue**2:.6}\")\n",
    "    plt.legend(frameon=False, prop={'size': 12},bbox_to_anchor=(1.05, 1.0), loc='upper right')\n",
    "    \n",
    "    plt.savefig(out_path)\n",
    "    plt.clf()"
   ]
  },
  {
   "cell_type": "markdown",
   "id": "6d9eb6a7",
   "metadata": {},
   "source": [
    "Panel a: log(bridging centrality)"
   ]
  },
  {
   "cell_type": "code",
   "execution_count": 36,
   "id": "eb2ed557",
   "metadata": {},
   "outputs": [
    {
     "name": "stderr",
     "output_type": "stream",
     "text": [
      "/var/folders/sb/27q12j591yxfmfcz9414bbbr0000gn/T/ipykernel_55581/430583142.py:2: RuntimeWarning: divide by zero encountered in log10\n",
      "  log10_bridge_centr = np.log10(list(bridge_centr.values()))\n"
     ]
    },
    {
     "data": {
      "text/plain": [
       "<Figure size 432x288 with 0 Axes>"
      ]
     },
     "metadata": {},
     "output_type": "display_data"
    }
   ],
   "source": [
    "bridge_centr = bridging_centrality(scerev_nx)\n",
    "log10_bridge_centr = np.log10(list(bridge_centr.values()))\n",
    "ess, non_ess, perc_ess = prepare_graphing_data([round(x*2)/2 if x != -np.inf else -np.inf for x in log10_bridge_centr], ess_rxn_aer)\n",
    "construct_plot(ess[:-1], non_ess[:-1], perc_ess[:-1], [x/2 for x in range(len(ess)-1)], r'$log_{10}$(Bridging Centrality)', \"../206 Final Project/panela2\")"
   ]
  },
  {
   "cell_type": "markdown",
   "id": "bcf60ec2",
   "metadata": {},
   "source": [
    "Panel b: log(betweenness centrality)"
   ]
  },
  {
   "cell_type": "code",
   "execution_count": 37,
   "id": "33bb6cf7",
   "metadata": {},
   "outputs": [
    {
     "name": "stderr",
     "output_type": "stream",
     "text": [
      "/var/folders/sb/27q12j591yxfmfcz9414bbbr0000gn/T/ipykernel_55581/293653456.py:2: RuntimeWarning: divide by zero encountered in log10\n",
      "  log10_between_centr = np.log10(between_centr)\n"
     ]
    },
    {
     "data": {
      "text/plain": [
       "<Figure size 432x288 with 0 Axes>"
      ]
     },
     "metadata": {},
     "output_type": "display_data"
    }
   ],
   "source": [
    "between_centr = list(nx.betweenness_centrality(scerev_nx).values())\n",
    "log10_between_centr = np.log10(between_centr)\n",
    "\n",
    "## shift to the right by the minimum positive log10 value \n",
    "min_pos_log10bc = np.min([x for x in log10_between_centr if x != -np.inf])\n",
    "log10_between_centr = [x + np.abs(min_pos_log10bc) if x != -np.inf else -np.inf for x in log10_between_centr]\n",
    "##\n",
    "\n",
    "ess, non_ess, perc_ess = prepare_graphing_data([round(x*2)/2 if x != -np.inf else -np.inf for x in log10_between_centr], ess_rxn_aer)\n",
    "construct_plot(ess, non_ess, perc_ess, [x/2 for x in range(len(ess))], r'$log_{10}$(Betweenness Centrality)', \"../206 Final Project/panelb2\")"
   ]
  },
  {
   "cell_type": "markdown",
   "id": "b87e0b0c",
   "metadata": {},
   "source": [
    "Panel c: clustering coefficient"
   ]
  },
  {
   "cell_type": "code",
   "execution_count": 38,
   "id": "0cb68cfc",
   "metadata": {},
   "outputs": [
    {
     "data": {
      "text/plain": [
       "<Figure size 432x288 with 0 Axes>"
      ]
     },
     "metadata": {},
     "output_type": "display_data"
    }
   ],
   "source": [
    "clust_coef = list(nx.clustering(scerev_nx).values())\n",
    "ess, non_ess, perc_ess = prepare_graphing_data([max(0.1, round(x,1)) for x in clust_coef], ess_rxn_aer)\n",
    "construct_plot(ess, non_ess, perc_ess, [(x+1)/10 for x in range(len(ess))], \"Clustering Coefficient\", \"../206 Final Project/panelc2\")"
   ]
  },
  {
   "cell_type": "markdown",
   "id": "74aa99e5",
   "metadata": {},
   "source": [
    "Panel d: log(degree)"
   ]
  },
  {
   "cell_type": "code",
   "execution_count": 39,
   "id": "8e6904c1",
   "metadata": {},
   "outputs": [],
   "source": [
    "from scipy.stats import linregress"
   ]
  },
  {
   "cell_type": "code",
   "execution_count": 40,
   "id": "8e2b1a7c",
   "metadata": {},
   "outputs": [
    {
     "data": {
      "text/plain": [
       "<Figure size 432x288 with 0 Axes>"
      ]
     },
     "metadata": {},
     "output_type": "display_data"
    }
   ],
   "source": [
    "degree = list(dict(nx.degree(scerev_nx)).values())\n",
    "log10_degree = np.log10(degree)\n",
    "ess, non_ess, perc_ess = prepare_graphing_data([round(x*4)/4 for x in log10_degree], ess_rxn_aer)\n",
    "construct_plot(ess, non_ess, perc_ess, [x/4 for x in range(len(ess))], r'$log_{10}$(Degree)', \"../206 Final Project/paneld2\")\n",
    "plt.show()"
   ]
  },
  {
   "cell_type": "code",
   "execution_count": null,
   "id": "72f66391",
   "metadata": {},
   "outputs": [],
   "source": []
  },
  {
   "cell_type": "code",
   "execution_count": null,
   "id": "a2415927",
   "metadata": {},
   "outputs": [],
   "source": []
  },
  {
   "cell_type": "code",
   "execution_count": null,
   "id": "59df8d18",
   "metadata": {},
   "outputs": [],
   "source": []
  }
 ],
 "metadata": {
  "kernelspec": {
   "display_name": "Python 3 (ipykernel)",
   "language": "python",
   "name": "python3"
  },
  "language_info": {
   "codemirror_mode": {
    "name": "ipython",
    "version": 3
   },
   "file_extension": ".py",
   "mimetype": "text/x-python",
   "name": "python",
   "nbconvert_exporter": "python",
   "pygments_lexer": "ipython3",
   "version": "3.9.7"
  }
 },
 "nbformat": 4,
 "nbformat_minor": 5
}
